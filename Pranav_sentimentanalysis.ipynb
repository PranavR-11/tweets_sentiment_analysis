{
 "cells": [
  {
   "cell_type": "code",
   "execution_count": 1,
   "metadata": {},
   "outputs": [
    {
     "name": "stdout",
     "output_type": "stream",
     "text": [
      "<class 'pandas.core.frame.DataFrame'>\n",
      "RangeIndex: 4791 entries, 0 to 4790\n",
      "Data columns (total 9 columns):\n",
      " #   Column      Non-Null Count  Dtype  \n",
      "---  ------      --------------  -----  \n",
      " 0   User ID     4791 non-null   int64  \n",
      " 1   Tweet ID    4791 non-null   int64  \n",
      " 2   Tweet       4791 non-null   object \n",
      " 3   Created at  4791 non-null   object \n",
      " 4   Retweets    4791 non-null   int64  \n",
      " 5   Replies     4791 non-null   int64  \n",
      " 6   Likes       4791 non-null   int64  \n",
      " 7   Quotes      4791 non-null   int64  \n",
      " 8   Source      0 non-null      float64\n",
      "dtypes: float64(1), int64(6), object(2)\n",
      "memory usage: 337.0+ KB\n",
      "None\n",
      "<class 'pandas.core.frame.DataFrame'>\n",
      "RangeIndex: 4795 entries, 0 to 4794\n",
      "Data columns (total 9 columns):\n",
      " #   Column      Non-Null Count  Dtype  \n",
      "---  ------      --------------  -----  \n",
      " 0   User ID     4795 non-null   int64  \n",
      " 1   Tweet ID    4795 non-null   int64  \n",
      " 2   Tweet       4795 non-null   object \n",
      " 3   Created at  4795 non-null   object \n",
      " 4   Retweets    4795 non-null   int64  \n",
      " 5   Replies     4795 non-null   int64  \n",
      " 6   Likes       4795 non-null   int64  \n",
      " 7   Quotes      4795 non-null   int64  \n",
      " 8   Source      0 non-null      float64\n",
      "dtypes: float64(1), int64(6), object(2)\n",
      "memory usage: 337.3+ KB\n",
      "None\n"
     ]
    },
    {
     "data": {
      "text/plain": [
       "(               User ID             Tweet ID  \\\n",
       " 0             88236719  1833309413073162489   \n",
       " 1  1181971448811986944  1833309412951281758   \n",
       " 2             30477815  1833309412867416555   \n",
       " 3  1521400102853967872  1833309412649537620   \n",
       " 4            329687070  1833309412586299739   \n",
       " \n",
       "                                                Tweet  \\\n",
       " 0  RT @Richard_ezio: I want to tell the truth abo...   \n",
       " 1  RT @JDVance: It has been 50 days since Kamala ...   \n",
       " 2  RT @RobSchneider: Good morning, friends.\\nJust...   \n",
       " 3  RT @JamesOKeefeIII: BREAKING: Google Growth St...   \n",
       " 4  RT @cmclymer: \"The Best People\"\\n\\nThis is the...   \n",
       " \n",
       "                   Created at  Retweets  Replies  Likes  Quotes  Source  \n",
       " 0  2024-09-10 00:59:59+00:00      5150        0      0       0     NaN  \n",
       " 1  2024-09-10 00:59:59+00:00     29649        0      0       0     NaN  \n",
       " 2  2024-09-10 00:59:59+00:00     22438        0      0       0     NaN  \n",
       " 3  2024-09-10 00:59:59+00:00     22376        0      0       0     NaN  \n",
       " 4  2024-09-10 00:59:59+00:00      3065        0      0       0     NaN  ,\n",
       "                User ID             Tweet ID  \\\n",
       " 0             88236719  1833309413073162489   \n",
       " 1  1609990069590568961  1833309412720840970   \n",
       " 2  1535880797957238785  1833309412598903146   \n",
       " 3            182125474  1833309412544680222   \n",
       " 4  1223775310166069249  1833309412506615986   \n",
       " \n",
       "                                                Tweet  \\\n",
       " 0  RT @Richard_ezio: I want to tell the truth abo...   \n",
       " 1  RT @RBReich: Over the weekend, Donald Trump th...   \n",
       " 2                               @The_Trump_Train YES   \n",
       " 3  RT @KamalaHQLies: THE LIE: Donald Trump called...   \n",
       " 4  RT @pesach_lattin: So the FBI agent who testif...   \n",
       " \n",
       "                   Created at  Retweets  Replies  Likes  Quotes  Source  \n",
       " 0  2024-09-10 00:59:59+00:00      5150        0      0       0     NaN  \n",
       " 1  2024-09-10 00:59:59+00:00      4769        0      0       0     NaN  \n",
       " 2  2024-09-10 00:59:59+00:00         0        0      3       0     NaN  \n",
       " 3  2024-09-10 00:59:59+00:00       509        0      0       0     NaN  \n",
       " 4  2024-09-10 00:59:59+00:00      8849        0      0       0     NaN  )"
      ]
     },
     "execution_count": 1,
     "metadata": {},
     "output_type": "execute_result"
    }
   ],
   "source": [
    "import pandas as pd\n",
    "\n",
    "# Load datasets\n",
    "harris_df = pd.read_csv(\"./harris_updated_debate.csv\")\n",
    "trump_df = pd.read_csv(\"./trump_updated_debate.csv\")\n",
    "\n",
    "# Check structure\n",
    "print(harris_df.info())\n",
    "print(trump_df.info())\n",
    "\n",
    "# Display first few rows\n",
    "harris_df.head(), trump_df.head()"
   ]
  },
  {
   "cell_type": "markdown",
   "metadata": {},
   "source": [
    "## Handling Data"
   ]
  },
  {
   "cell_type": "code",
   "execution_count": 2,
   "metadata": {},
   "outputs": [],
   "source": [
    "# Drop columns that are entirely empty or irrelevant (like 'Source')\n",
    "harris_df.drop(columns=['Source'], inplace=True, errors='ignore')\n",
    "trump_df.drop(columns=['Source'], inplace=True, errors='ignore')\n",
    "\n",
    "# Drop duplicates based on Tweet content\n",
    "harris_df.drop_duplicates(subset=['Tweet'], inplace=True)\n",
    "trump_df.drop_duplicates(subset=['Tweet'], inplace=True)"
   ]
  },
  {
   "cell_type": "markdown",
   "metadata": {},
   "source": [
    "## Using RegEx to analyse text easily"
   ]
  },
  {
   "cell_type": "code",
   "execution_count": 3,
   "metadata": {},
   "outputs": [],
   "source": [
    "import re\n",
    "\n",
    "def clean_text(text):\n",
    "    text = text.lower()  # Convert to lowercase\n",
    "    text = re.sub(r\"http\\S+|www\\S+|https\\S+\", '', text, flags=re.MULTILINE)  # Remove URLs\n",
    "    text = re.sub(r'@\\w+', '', text)  # Remove mentions\n",
    "    text = re.sub(r'#\\w+', '', text)  # Remove hashtags (extracted separately)\n",
    "    text = re.sub(r'[^a-z\\s]', '', text)  # Remove special characters and numbers\n",
    "    return text.strip()\n",
    "\n",
    "# Apply text cleaning\n",
    "harris_df['Cleaned_Tweet'] = harris_df['Tweet'].apply(clean_text)\n",
    "trump_df['Cleaned_Tweet'] = trump_df['Tweet'].apply(clean_text)"
   ]
  },
  {
   "cell_type": "markdown",
   "metadata": {},
   "source": [
    "## Extracting Hashtags"
   ]
  },
  {
   "cell_type": "code",
   "execution_count": 4,
   "metadata": {},
   "outputs": [],
   "source": [
    "def extract_hashtags(text):\n",
    "    return re.findall(r'#(\\w+)', text)\n",
    "\n",
    "harris_df['Hashtags'] = harris_df['Tweet'].apply(extract_hashtags)\n",
    "trump_df['Hashtags'] = trump_df['Tweet'].apply(extract_hashtags)"
   ]
  },
  {
   "cell_type": "markdown",
   "metadata": {},
   "source": [
    "## Understanding Emojis"
   ]
  },
  {
   "cell_type": "code",
   "execution_count": 5,
   "metadata": {},
   "outputs": [],
   "source": [
    "import emoji\n",
    "\n",
    "def convert_emojis(text):\n",
    "    return emoji.demojize(text, delimiters=(\" \", \" \"))  # Convert emojis to text\n",
    "\n",
    "harris_df['Emoji_Converted'] = harris_df['Tweet'].apply(convert_emojis)\n",
    "trump_df['Emoji_Converted'] = trump_df['Tweet'].apply(convert_emojis)"
   ]
  },
  {
   "cell_type": "markdown",
   "metadata": {},
   "source": [
    "## Lematization"
   ]
  },
  {
   "cell_type": "code",
   "execution_count": 6,
   "metadata": {},
   "outputs": [
    {
     "name": "stderr",
     "output_type": "stream",
     "text": [
      "[nltk_data] Downloading package punkt to\n",
      "[nltk_data]     /Users/pranavrebala/nltk_data...\n",
      "[nltk_data]   Package punkt is already up-to-date!\n",
      "[nltk_data] Downloading package stopwords to\n",
      "[nltk_data]     /Users/pranavrebala/nltk_data...\n",
      "[nltk_data]   Package stopwords is already up-to-date!\n",
      "[nltk_data] Downloading package wordnet to\n",
      "[nltk_data]     /Users/pranavrebala/nltk_data...\n",
      "[nltk_data]   Package wordnet is already up-to-date!\n"
     ]
    }
   ],
   "source": [
    "import nltk\n",
    "from nltk.corpus import stopwords\n",
    "from nltk.stem import WordNetLemmatizer\n",
    "\n",
    "# Download necessary NLTK resources\n",
    "nltk.download('punkt')\n",
    "nltk.download('stopwords')\n",
    "nltk.download('wordnet')\n",
    "\n",
    "# Initialize tools\n",
    "lemmatizer = WordNetLemmatizer()\n",
    "stop_words = set(stopwords.words('english'))\n",
    "\n",
    "def preprocess_text(text):\n",
    "    words = text.split()\n",
    "    words = [lemmatizer.lemmatize(word) for word in words if word not in stop_words]  # Lemmatize & remove stopwords\n",
    "    return ' '.join(words)\n",
    "\n",
    "# Apply preprocessing\n",
    "harris_df['Processed_Tweet'] = harris_df['Cleaned_Tweet'].apply(preprocess_text)\n",
    "trump_df['Processed_Tweet'] = trump_df['Cleaned_Tweet'].apply(preprocess_text)"
   ]
  },
  {
   "cell_type": "markdown",
   "metadata": {},
   "source": [
    "## Detect different languages"
   ]
  },
  {
   "cell_type": "code",
   "execution_count": 7,
   "metadata": {},
   "outputs": [],
   "source": [
    "from langdetect import detect\n",
    "\n",
    "def detect_language(text):\n",
    "    try:\n",
    "        return detect(text)\n",
    "    except:\n",
    "        return \"unknown\"\n",
    "\n",
    "harris_df['Language'] = harris_df['Tweet'].apply(detect_language)\n",
    "trump_df['Language'] = trump_df['Tweet'].apply(detect_language)"
   ]
  },
  {
   "cell_type": "markdown",
   "metadata": {},
   "source": [
    "## Using RegEx to understand sarcasm"
   ]
  },
  {
   "cell_type": "code",
   "execution_count": 8,
   "metadata": {},
   "outputs": [],
   "source": [
    "import re\n",
    "\n",
    "# Define sarcastic cues\n",
    "positive_words = {\"good\", \"great\", \"love\", \"happy\", \"amazing\", \"fantastic\", \"wonderful\", \"best\", \"awesome\"}\n",
    "negative_words = {\"bad\", \"worst\", \"terrible\", \"awful\", \"hate\", \"sad\", \"horrible\", \"disaster\", \"painful\"}\n",
    "sarcastic_phrases = {\"oh sure\", \"yeah right\", \"nice job\", \"just perfect\", \"as expected\", \"obviously\"}\n",
    "intensifiers = {\"totally\", \"absolutely\", \"completely\", \"sooo\", \"extremely\", \"literally\"}\n",
    "contrast_patterns = [r\"(good|great|love).*(bad|worst|terrible)\", r\"(bad|awful|hate).*(awesome|best)\"]\n",
    "\n",
    "def detect_sarcasm_advanced(text, emoji_text, hashtags):\n",
    "    words = set(text.split())\n",
    "    \n",
    "    # Check emoji-text mismatch\n",
    "    if words.intersection(positive_words) and \"thumbs_down\" in emoji_text:\n",
    "        return \"Possible Sarcasm\"\n",
    "    if words.intersection(negative_words) and \"laughing\" in emoji_text:\n",
    "        return \"Possible Sarcasm\"\n",
    "    \n",
    "    # Check sarcastic phrases\n",
    "    if any(phrase in text for phrase in sarcastic_phrases):\n",
    "        return \"Likely Sarcasm\"\n",
    "    \n",
    "    # Detect contrast in a sentence\n",
    "    for pattern in contrast_patterns:\n",
    "        if re.search(pattern, text):\n",
    "            return \"Likely Sarcasm\"\n",
    "    \n",
    "    # Detect exaggeration using intensifiers\n",
    "    if any(word in text for word in intensifiers):\n",
    "        return \"Possible Sarcasm\"\n",
    "    \n",
    "    # Negative sentiment + a positive hashtag\n",
    "    if words.intersection(negative_words) and any(tag in {\"blessed\", \"grateful\", \"winning\"} for tag in hashtags):\n",
    "        return \"Likely Sarcasm\"\n",
    "    \n",
    "    return \"No Sarcasm\"\n",
    "\n",
    "# Apply sarcasm detection to data\n",
    "harris_df['Sarcasm'] = harris_df.apply(lambda x: detect_sarcasm_advanced(x['Processed_Tweet'], x['Emoji_Converted'], x['Hashtags']), axis=1)\n",
    "trump_df['Sarcasm'] = trump_df.apply(lambda x: detect_sarcasm_advanced(x['Processed_Tweet'], x['Emoji_Converted'], x['Hashtags']), axis=1)"
   ]
  },
  {
   "cell_type": "markdown",
   "metadata": {},
   "source": [
    "## Analysing Hashtags"
   ]
  },
  {
   "cell_type": "code",
   "execution_count": 9,
   "metadata": {},
   "outputs": [
    {
     "name": "stdout",
     "output_type": "stream",
     "text": [
      "Top 10 Hashtags in Harris Tweets: [('Debate2024', 24), ('Kamala', 11), ('Harris', 10), ('Trump', 9), ('debate', 7), ('B', 6), ('kamala', 6), ('debate2024', 6), ('KamalaHarris', 5), ('Debatenight', 5)]\n",
      "Top 10 Hashtags in Trump Tweets: [('Trump', 27), ('Debate2024', 21), ('KamalaHarris', 8), ('Harris', 6), ('MAGA', 6), ('B', 6), ('debate', 5), ('Kamala', 5), ('trump', 5), ('DonaldTrump', 4)]\n"
     ]
    }
   ],
   "source": [
    "from collections import Counter\n",
    "\n",
    "# Count most frequent hashtags\n",
    "harris_hashtag_counts = Counter([hashtag for hashtags in harris_df['Hashtags'] for hashtag in hashtags])\n",
    "trump_hashtag_counts = Counter([hashtag for hashtags in trump_df['Hashtags'] for hashtag in hashtags])\n",
    "\n",
    "# Display top 10 hashtags\n",
    "print(\"Top 10 Hashtags in Harris Tweets:\", harris_hashtag_counts.most_common(10))\n",
    "print(\"Top 10 Hashtags in Trump Tweets:\", trump_hashtag_counts.most_common(10))"
   ]
  },
  {
   "cell_type": "code",
   "execution_count": 10,
   "metadata": {},
   "outputs": [],
   "source": [
    "harris_df.to_csv(\"harris_processed.csv\", index=False)\n",
    "trump_df.to_csv(\"trump_processed.csv\", index=False)"
   ]
  },
  {
   "cell_type": "markdown",
   "metadata": {},
   "source": [
    "## Creating Pipeline"
   ]
  },
  {
   "cell_type": "code",
   "execution_count": 11,
   "metadata": {},
   "outputs": [
    {
     "name": "stderr",
     "output_type": "stream",
     "text": [
      "Device set to use mps:0\n"
     ]
    }
   ],
   "source": [
    "from transformers import pipeline\n",
    "\n",
    "# Load sentiment analysis pipeline with a fine-tuned BERT model\n",
    "sentiment_pipeline = pipeline(\"sentiment-analysis\", model=\"cardiffnlp/twitter-roberta-base-sentiment\")"
   ]
  },
  {
   "cell_type": "markdown",
   "metadata": {},
   "source": [
    "# Sentiment Analysis"
   ]
  },
  {
   "cell_type": "code",
   "execution_count": 12,
   "metadata": {},
   "outputs": [
    {
     "name": "stderr",
     "output_type": "stream",
     "text": [
      "Device set to use mps:0\n"
     ]
    },
    {
     "name": "stdout",
     "output_type": "stream",
     "text": [
      "Harris Sentiment Counts:\n",
      " Sentiment\n",
      "NEUTRAL     1969\n",
      "NEGATIVE     946\n",
      "POSITIVE     140\n",
      "Name: count, dtype: int64\n",
      "Trump Sentiment Counts:\n",
      " Sentiment\n",
      "NEUTRAL     1910\n",
      "NEGATIVE    1233\n",
      "POSITIVE     176\n",
      "Name: count, dtype: int64\n"
     ]
    }
   ],
   "source": [
    "from transformers import pipeline\n",
    "\n",
    "# Load RoBERTa model for 3-class sentiment analysis\n",
    "sentiment_pipeline = pipeline(\"sentiment-analysis\", model=\"cardiffnlp/twitter-roberta-base-sentiment\")\n",
    "\n",
    "# Mapping model outputs to sentiment labels\n",
    "sentiment_labels = {\n",
    "    \"LABEL_0\": \"NEGATIVE\",\n",
    "    \"LABEL_1\": \"NEUTRAL\",\n",
    "    \"LABEL_2\": \"POSITIVE\"\n",
    "}\n",
    "\n",
    "# Function to get sentiment predictions\n",
    "def get_sentiment(text):\n",
    "    try:\n",
    "        result = sentiment_pipeline(text[:512])  # Truncate long tweets\n",
    "        return sentiment_labels[result[0]['label']]  # Map label to sentiment\n",
    "    except:\n",
    "        return \"Error\"\n",
    "\n",
    "# Apply sentiment analysis to Harris dataset\n",
    "harris_df['Sentiment'] = harris_df['Processed_Tweet'].apply(get_sentiment)\n",
    "\n",
    "# Apply sentiment analysis to Trump dataset\n",
    "trump_df['Sentiment'] = trump_df['Processed_Tweet'].apply(get_sentiment)\n",
    "\n",
    "# Save the processed data with sentiment labels\n",
    "harris_df.to_csv(\"harris_sentiment_analysis.csv\", index=False)\n",
    "trump_df.to_csv(\"trump_sentiment_analysis.csv\", index=False)\n",
    "\n",
    "# Display sentiment counts\n",
    "print(\"Harris Sentiment Counts:\\n\", harris_df['Sentiment'].value_counts())\n",
    "print(\"Trump Sentiment Counts:\\n\", trump_df['Sentiment'].value_counts())"
   ]
  },
  {
   "cell_type": "markdown",
   "metadata": {},
   "source": [
    "## Visualization"
   ]
  },
  {
   "cell_type": "code",
   "execution_count": 13,
   "metadata": {},
   "outputs": [
    {
     "data": {
      "image/png": "[encoded data removed]",
      "text/plain": [
       "<Figure size 1200x500 with 2 Axes>"
      ]
     },
     "metadata": {},
     "output_type": "display_data"
    }
   ],
   "source": [
    "import matplotlib.pyplot as plt\n",
    "\n",
    "# Define correct sentiment colors\n",
    "sentiment_colors = {\"POSITIVE\": \"green\", \"NEUTRAL\": \"blue\", \"NEGATIVE\": \"red\"}\n",
    "\n",
    "# Count sentiment labels\n",
    "harris_sentiment_counts = harris_df['Sentiment'].value_counts()\n",
    "trump_sentiment_counts = trump_df['Sentiment'].value_counts()\n",
    "\n",
    "# Create figure\n",
    "plt.figure(figsize=(12, 5))\n",
    "\n",
    "# Harris Sentiment Plot (Blue Theme for Kamala Harris)\n",
    "plt.subplot(1, 2, 1)\n",
    "harris_sentiment_counts.plot(kind='bar', title='Kamala Harris Tweet Sentiment', \n",
    "                             color=[sentiment_colors[label] for label in harris_sentiment_counts.index])\n",
    "plt.xlabel(\"Sentiment\")\n",
    "plt.ylabel(\"Tweet Count\")\n",
    "plt.xticks(rotation=0)\n",
    "plt.grid(axis='y', linestyle='--', alpha=0.7)\n",
    "plt.gca().spines['top'].set_color('blue')\n",
    "plt.gca().spines['right'].set_color('blue')\n",
    "plt.gca().spines['bottom'].set_color('blue')\n",
    "plt.gca().spines['left'].set_color('blue')\n",
    "\n",
    "# Trump Sentiment Plot (Red Theme for Donald Trump)\n",
    "plt.subplot(1, 2, 2)\n",
    "trump_sentiment_counts.plot(kind='bar', title='Donald Trump Tweet Sentiment', \n",
    "                            color=[sentiment_colors[label] for label in trump_sentiment_counts.index])\n",
    "plt.xlabel(\"Sentiment\")\n",
    "plt.ylabel(\"Tweet Count\")\n",
    "plt.xticks(rotation=0)\n",
    "plt.grid(axis='y', linestyle='--', alpha=0.7)\n",
    "plt.gca().spines['top'].set_color('red')\n",
    "plt.gca().spines['right'].set_color('red')\n",
    "plt.gca().spines['bottom'].set_color('red')\n",
    "plt.gca().spines['left'].set_color('red')\n",
    "\n",
    "# Set overall title\n",
    "plt.suptitle(\"Sentiment Analysis of Debate Tweets\")\n",
    "\n",
    "# Show the plots\n",
    "plt.show()"
   ]
  },
  {
   "cell_type": "code",
   "execution_count": null,
   "metadata": {},
   "outputs": [],
   "source": []
  }
 ],
 "metadata": {
  "kernelspec": {
   "display_name": "base",
   "language": "python",
   "name": "python3"
  },
  "language_info": {
   "codemirror_mode": {
    "name": "ipython",
    "version": 3
   },
   "file_extension": ".py",
   "mimetype": "text/x-python",
   "name": "python",
   "nbconvert_exporter": "python",
   "pygments_lexer": "ipython3",
   "version": "3.12.7"
  }
 },
 "nbformat": 4,
 "nbformat_minor": 2
}
